{
 "cells": [
  {
   "cell_type": "markdown",
   "id": "a91b9a7c",
   "metadata": {},
   "source": [
    "# Swish Analytics: NFL Data Scientist Take Home Assesment"
   ]
  },
  {
   "cell_type": "markdown",
   "id": "0d81385c",
   "metadata": {},
   "source": [
    "Things I would consider to predict the odds that the next play is going to be a sack\n",
    "* Historical Sacks for each player on the defense\n",
    "    * Weighted by position\n",
    "* Sacks allowed by the offensive linemen\n",
    "* Quarterback’s number of times getting sacked\n",
    "* Down and distance\n",
    "    * A sack must occur on a passing play or intended passing play\n",
    "    * Would expect there to be more passes on later downs, but given a certain score differential and a time of the game, passes could become more likely on earlier downs\n",
    "* Field position\n",
    "    * Not exactly sure, but I do believe a sack would be unlikely behind your own 15-20ydl\n",
    "* Score of the game\n",
    "    * Larger differential would make the team that is down more likely to pass\n",
    "* Timestamp of the game\n",
    "\n",
    "\n",
    "#### Models to Try:\n",
    "* Purely based on historical information\n",
    "    * For example, the most naive model would be to say\n",
    "        * Likelihood = (number of plays resulting in a sack)/(number of total plays)\n",
    "    * Then start making it more complicated a little at a time\n",
    "        * Likelihood = (number of plays resulting in a sack | this team is on defense)/(number of total plays | this team is on defense)\n",
    "        * You could furthermore identify it with given information about which players are currently on defense\n",
    "* Train a model\n",
    "    * Random forest regressor\n",
    "        * Does this work when building a distribution?\n",
    "        * We don’t just want to predict whether it’s a sack or not with a certain accuracy. We want to determine the odds it will happen\n",
    "* Can deep learning help\n"
   ]
  },
  {
   "cell_type": "code",
   "execution_count": null,
   "id": "15652e35",
   "metadata": {},
   "outputs": [],
   "source": []
  }
 ],
 "metadata": {
  "kernelspec": {
   "display_name": "nfl-ds-local",
   "language": "python",
   "name": "python3"
  },
  "language_info": {
   "name": "python",
   "version": "3.11.8"
  }
 },
 "nbformat": 4,
 "nbformat_minor": 5
}
